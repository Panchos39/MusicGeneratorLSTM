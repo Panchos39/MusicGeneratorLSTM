{
 "cells": [
  {
   "cell_type": "markdown",
   "metadata": {
    "colab_type": "text",
    "id": "EjRSop_IqB8x",
    "tags": [
     "meta",
     "toc_en"
    ]
   },
   "source": [
    "# Introduction to Machine Learning\n",
    "\n",
    "<img src=\"https://github.com/jeremiedecock/polytechnique-cse204-2018/blob/master/logo.jpg?raw=1\" style=\"float: left; width: 15%\" />\n",
    "\n",
    "[CSE204-2018](https://moodle.polytechnique.fr/course/view.php?id=6784) Lab session #02\n",
    "\n",
    "Jérémie DECOCK"
   ]
  },
  {
   "cell_type": "markdown",
   "metadata": {
    "colab_type": "text",
    "id": "M2qRvfPRqB87"
   },
   "source": [
    "<a href=\"https://colab.research.google.com/github/jeremiedecock/polytechnique-cse204-2018/blob/master/lab_session_02.ipynb\"><img align=\"left\" src=\"https://colab.research.google.com/assets/colab-badge.svg\" alt=\"Open in Colab\" title=\"Open and Execute in Google Colaboratory\"></a>"
   ]
  },
  {
   "cell_type": "markdown",
   "metadata": {
    "colab_type": "text",
    "id": "rLBOwefNqB9B"
   },
   "source": [
    "<a href=\"https://mybinder.org/v2/gh/jeremiedecock/polytechnique-cse204-2018/master?filepath=lab_session_02.ipynb\"><img align=\"left\" src=\"https://mybinder.org/badge.svg\" alt=\"Open in Binder\" title=\"Open and Execute in Binder\"></a>"
   ]
  },
  {
   "cell_type": "markdown",
   "metadata": {
    "colab_type": "text",
    "id": "WvDcAkKZqB9J"
   },
   "source": [
    "## Objectives\n",
    "\n",
    "- Implement the *k-Nearest Neighbors* algorithm\n",
    "- Use it to solve classification and regression problems\n",
    "- Define the decision boundaries\n",
    "- Explain the weaknesses of this algorithm"
   ]
  },
  {
   "cell_type": "markdown",
   "metadata": {
    "colab_type": "text",
    "id": "rfXPsNYIqB9O"
   },
   "source": [
    "## Imports and tool functions"
   ]
  },
  {
   "cell_type": "code",
   "execution_count": 0,
   "metadata": {
    "colab": {},
    "colab_type": "code",
    "collapsed": true,
    "id": "fiOlk4SLqB9X"
   },
   "outputs": [],
   "source": [
    "import numpy as np\n",
    "\n",
    "import matplotlib.pyplot as plt\n",
    "from matplotlib.colors import ListedColormap\n",
    "\n",
    "import pandas as pd\n",
    "import sklearn.neighbors\n",
    "from sklearn.utils import shuffle\n",
    "\n",
    "from scipy.spatial import Voronoi, voronoi_plot_2d"
   ]
  },
  {
   "cell_type": "code",
   "execution_count": 0,
   "metadata": {
    "colab": {},
    "colab_type": "code",
    "collapsed": true,
    "id": "lXFrbjZBqB92"
   },
   "outputs": [],
   "source": [
    "def gen_2d_classification_samples(n_samples = 20):\n",
    "\n",
    "    cov = np.diag([2., 2.])\n",
    "\n",
    "    x1 = np.random.multivariate_normal(mean=[0., 0.], cov=cov, size=n_samples)\n",
    "    y1 = np.full(n_samples, 1, dtype=np.int)\n",
    "\n",
    "    x2 = np.random.multivariate_normal(mean=[4., 0.], cov=cov, size=n_samples)\n",
    "    y2 = np.full(n_samples, 2, dtype=np.int)\n",
    "\n",
    "    x3 = np.random.multivariate_normal(mean=[2., 4.], cov=cov, size=n_samples)\n",
    "    y3 = np.full(n_samples, 3, dtype=np.int)\n",
    "\n",
    "    X = np.concatenate([x1, x2, x3])\n",
    "    y = np.concatenate([y1, y2, y3])\n",
    "\n",
    "    df = pd.DataFrame(X, columns=['x1', 'x2'])\n",
    "    df['y'] = y\n",
    "\n",
    "    df = shuffle(df).reset_index(drop=True)\n",
    "    \n",
    "    return df"
   ]
  },
  {
   "cell_type": "code",
   "execution_count": 0,
   "metadata": {
    "colab": {},
    "colab_type": "code",
    "collapsed": true,
    "id": "duSr5BU4qB-V"
   },
   "outputs": [],
   "source": [
    "cmap_light = ListedColormap(['#FFAAAA', '#AAFFAA', '#AAAAFF'])\n",
    "cmap_bold = ListedColormap(['#FF0000', '#00FF00', '#0000FF'])\n",
    "\n",
    "def plot_2d_classification_samples(dataframe, model=None, voronoi=False):\n",
    "    plt.figure(figsize=(8, 8))\n",
    "    \n",
    "    df = dataframe  # make an alias\n",
    "    \n",
    "    ERROR_MSG1 = \"The `dataframe` parameter should be a Pandas DataFrame having the following columns: ['x1', 'x2', 'y']\"\n",
    "    assert df.columns.values.tolist() == ['x1', 'x2', 'y'], ERROR_MSG1\n",
    "    \n",
    "    ERROR_MSG2 = \"The `dataframe` parameter should be a Pandas DataFrame having the following labels (in column 'y'): [1, 2, 3]\"\n",
    "    labels = pd.unique(df.y).tolist()\n",
    "    labels.sort()\n",
    "    assert labels == [1, 2, 3], ERROR_MSG2\n",
    "    \n",
    "    if model is not None:\n",
    "        if voronoi:\n",
    "            # Compute the Voronoi cells\n",
    "            \n",
    "            vor = Voronoi(df[['x1', 'x2']])\n",
    "\n",
    "            # Plot the Voronoi diagram\n",
    "            \n",
    "            fig = voronoi_plot_2d(vor, show_vertices=False, show_points=False)\n",
    "            fig.set_size_inches(8, 8)\n",
    "        \n",
    "        # Compute the model's decision boundaries\n",
    "        \n",
    "        h = .02  # step size in the mesh\n",
    "\n",
    "        x_min, x_max = df.x1.min() - 1, df.x1.max() + 1\n",
    "        y_min, y_max = df.x2.min() - 1, df.x2.max() + 1\n",
    "\n",
    "        xx, yy = np.meshgrid(np.arange(x_min, x_max, h),\n",
    "                             np.arange(y_min, y_max, h))\n",
    "\n",
    "        Z = model.predict(np.c_[xx.ravel(), yy.ravel()])\n",
    "        Z = Z.reshape(xx.shape)\n",
    "        \n",
    "        # Plot the model's decision boundaries\n",
    "\n",
    "        plt.pcolormesh(xx, yy, Z, cmap=cmap_light, alpha=0.5)\n",
    "\n",
    "    # Plot also the training points\n",
    "    plt.scatter(df.x1, df.x2, c=df.y, cmap=cmap_bold, edgecolor='k', s=30)\n",
    "    plt.xlabel(r\"$x_1$\", fontsize=16)\n",
    "    plt.ylabel(r\"$x_2$\", fontsize=16)"
   ]
  },
  {
   "cell_type": "markdown",
   "metadata": {
    "colab_type": "text",
    "id": "cwnq1IDYqB-p"
   },
   "source": [
    "## Nearest Neighbor algorithm"
   ]
  },
  {
   "cell_type": "markdown",
   "metadata": {
    "colab_type": "text",
    "id": "CamsuvnRqB_j"
   },
   "source": [
    "Today you will implement one of the simplest (but quite powerful) machine learning algorithm: the *Nearest Neighbor* algorithm and its extension the *k-Nearest Neighbors* algorithm (or *kNN*).\n",
    "Both can be used for classification and regression tasks.\n",
    "\n",
    "Considering a dataset $\\mathcal{D}=\\{(\\mathcal{x}_i, y_i)_{i=1,\\dots,n}\\}$ of $n$ labeled examples, the *Nearest Neighbor* model assigns an input vector $\\boldsymbol{x}$ to the label $y_{\\arg\\min_{i=1,\\dots, n}d(x, x_i)}$ of its closest neighbor in $\\mathcal{D}$.\n",
    "\n",
    "The distance function $d$ is used to define what is the closest neighbor. This can be any metric measure but the *Minkowski distance* (especially the classical Euclidian distance $d_2$) is the most common choice. It is defined as follow:\n",
    "\n",
    "$$d_q: \\mathbb{R}^p \\times \\mathbb{R}^p \\to \\mathbb{R}$$\n",
    "\n",
    "$$\\boldsymbol{u}, \\boldsymbol{v} \\mapsto ||\\boldsymbol{u} - \\boldsymbol{v}||_q = \\left( \\sum_{j=1}^p |u_j - v_j|^q \\right)^{1/q}$$\n",
    "\n",
    "When $q=2$, $d_q$ is the *Euclidian distance*\n",
    "\n",
    "$$d_2(\\boldsymbol{u}, \\boldsymbol{v}) = \\sqrt{\\sum_{j=1}^{p} (u_j - v_j)^2}$$\n",
    "\n",
    "When $q=1$, $d_q$ is the *Manhattan distance*\n",
    "\n",
    "$$d_1(\\boldsymbol{u}, \\boldsymbol{v}) = \\sum_{j=1}^{p} |u_j - v_j|$$\n",
    "\n",
    "When $q=\\infty$, $d_q$ is the  *Tchebychev distance*\n",
    "\n",
    "$$d_{\\infty}(\\boldsymbol{u}, \\boldsymbol{v}) = \\max_{j=1,\\dots,p} |u_j - v_j|$$"
   ]
  },
  {
   "cell_type": "markdown",
   "metadata": {
    "colab_type": "text",
    "id": "IS8vjw-gqB_m"
   },
   "source": [
    "### Exercise 1"
   ]
  },
  {
   "cell_type": "markdown",
   "metadata": {
    "colab_type": "text",
    "id": "xP4YtXKtqB_q"
   },
   "source": [
    "We consider the following dataset (where 'x1' and 'x2' are examples features and where 'y' is the examples label):"
   ]
  },
  {
   "cell_type": "code",
   "execution_count": 0,
   "metadata": {
    "colab": {},
    "colab_type": "code",
    "collapsed": true,
    "id": "Q8LG5ZleqB_s"
   },
   "outputs": [],
   "source": [
    "data = [[0, 0, 1],\n",
    "        [0, 1, 1],\n",
    "        [1, 1, 2],\n",
    "        [1, 0, 3]]\n",
    "\n",
    "df = pd.DataFrame(data, columns=['x1', 'x2', 'y'])\n",
    "df"
   ]
  },
  {
   "cell_type": "code",
   "execution_count": 0,
   "metadata": {
    "colab": {},
    "colab_type": "code",
    "collapsed": true,
    "id": "48gPNBB_qB_2"
   },
   "outputs": [],
   "source": [
    "plot_2d_classification_samples(df)"
   ]
  },
  {
   "cell_type": "markdown",
   "metadata": {
    "colab_type": "text",
    "id": "INuITtmPqB_7"
   },
   "source": [
    "#### Question 1"
   ]
  },
  {
   "cell_type": "markdown",
   "metadata": {
    "colab_type": "text",
    "id": "8zkDl5lVqB_9"
   },
   "source": [
    "What label will be predicted by the Nearest Neighbor algorithm for the point $x = \\pmatrix{0 \\\\ 0.5}$ ?"
   ]
  },
  {
   "cell_type": "markdown",
   "metadata": {
    "colab_type": "text",
    "id": "pmXcnFizqB__"
   },
   "source": [
    "..."
   ]
  },
  {
   "cell_type": "markdown",
   "metadata": {
    "colab_type": "text",
    "id": "kDKADeGjqCAA"
   },
   "source": [
    "#### Question 2"
   ]
  },
  {
   "cell_type": "markdown",
   "metadata": {
    "colab_type": "text",
    "id": "gTOC5okcqCAD"
   },
   "source": [
    "If you have $n$ examples in $p$ dimensions in the dataset, what it the training error of the Nearest Neighbor algorithm (in classification) ? Why ?"
   ]
  },
  {
   "cell_type": "markdown",
   "metadata": {
    "colab_type": "text",
    "id": "KsEiSVM9qCAE"
   },
   "source": [
    "..."
   ]
  },
  {
   "cell_type": "markdown",
   "metadata": {
    "colab_type": "text",
    "id": "jsD2X7mpqCAG"
   },
   "source": [
    "### Exercise 2"
   ]
  },
  {
   "cell_type": "markdown",
   "metadata": {
    "colab_type": "text",
    "id": "ep89-dVbqCAH"
   },
   "source": [
    "Consider this new dataset (where 'volume (mL)' and 'caffeine (g)' are the examples features and where 'drink' is the label):"
   ]
  },
  {
   "cell_type": "code",
   "execution_count": 0,
   "metadata": {
    "colab": {},
    "colab_type": "code",
    "collapsed": true,
    "id": "bWVdiqzHqCAJ"
   },
   "outputs": [],
   "source": [
    "data = [[250, 0.025, 'tea'],\n",
    "        [100, 0.01,  'tea'],\n",
    "        [125, 0.05,  'coffe'],\n",
    "        [250, 0.1,   'coffe']]\n",
    "\n",
    "df = pd.DataFrame(data, columns=['volume (mL)', 'caffeine (g)', 'drink'])\n",
    "df"
   ]
  },
  {
   "cell_type": "markdown",
   "metadata": {
    "colab_type": "text",
    "id": "bMOuN9b_qCAO"
   },
   "source": [
    "#### Question 1"
   ]
  },
  {
   "cell_type": "markdown",
   "metadata": {
    "colab_type": "text",
    "id": "gXeiM8DFqCAP"
   },
   "source": [
    "Use the Nearest Neighbor method to predict the label of a 125mL drink having 0.015g of caffeine."
   ]
  },
  {
   "cell_type": "markdown",
   "metadata": {
    "colab_type": "text",
    "id": "1YLO7shmqCAQ"
   },
   "source": [
    "..."
   ]
  },
  {
   "cell_type": "markdown",
   "metadata": {
    "colab_type": "text",
    "id": "CRLPRIDsqCAS"
   },
   "source": [
    "#### Question 2"
   ]
  },
  {
   "cell_type": "markdown",
   "metadata": {
    "colab_type": "text",
    "id": "Tbb39RBPqCAT"
   },
   "source": [
    "What is wrong with this prediction ? How to solve this problem ?"
   ]
  },
  {
   "cell_type": "markdown",
   "metadata": {
    "colab_type": "text",
    "id": "GB8wfesSqCAU"
   },
   "source": [
    "..."
   ]
  },
  {
   "cell_type": "markdown",
   "metadata": {
    "colab_type": "text",
    "id": "muxM7c8fqCAV"
   },
   "source": [
    "## Nearest Neighbor method with Scikit Learn\n",
    "\n",
    "Let's play with the Scikit Learn implementation of the Nearest Neighbor algorithm.\n",
    "The official documentation is there: https://scikit-learn.org/stable/modules/neighbors.html"
   ]
  },
  {
   "cell_type": "markdown",
   "metadata": {
    "colab_type": "text",
    "id": "OEP2-3PLqCAW"
   },
   "source": [
    "### Classification"
   ]
  },
  {
   "cell_type": "markdown",
   "metadata": {
    "colab_type": "text",
    "id": "gWtCkItlqCAa"
   },
   "source": [
    "We begin with a \"toy\" **classification problem**.\n",
    "\n",
    "Use the `gen_2d_classification_samples()` function (defined above) to generate a dataset."
   ]
  },
  {
   "cell_type": "code",
   "execution_count": 0,
   "metadata": {
    "colab": {},
    "colab_type": "code",
    "collapsed": true,
    "id": "_Tq3DLNEqCAc"
   },
   "outputs": [],
   "source": [
    "df = gen_2d_classification_samples(n_samples=20)\n",
    "df.head()"
   ]
  },
  {
   "cell_type": "markdown",
   "metadata": {
    "colab_type": "text",
    "id": "KE4vpuomqCAj"
   },
   "source": [
    "Here, examples are defined in $\\mathbb{R}^2$ (features are stored in columns 'x1' and 'x2').\n",
    "Example's labels are defined in the 'y' column.\n",
    "\n",
    "The 'y' column contains three possible labels: \"1\", \"2\" and \"3\" respectively represented by the red, green and blue colors in the following figure."
   ]
  },
  {
   "cell_type": "code",
   "execution_count": 0,
   "metadata": {
    "colab": {},
    "colab_type": "code",
    "collapsed": true,
    "id": "u8DjMh9WqCAm"
   },
   "outputs": [],
   "source": [
    "plot_2d_classification_samples(df)"
   ]
  },
  {
   "cell_type": "markdown",
   "metadata": {
    "colab_type": "text",
    "id": "FItOaJJQqCAy"
   },
   "source": [
    "Thus this toy problem is a multiclass classification problem."
   ]
  },
  {
   "cell_type": "markdown",
   "metadata": {
    "colab_type": "text",
    "id": "K9CDuBSQqCA0"
   },
   "source": [
    "Once the dataset is ready, let's make the classifier and train it with the following code:"
   ]
  },
  {
   "cell_type": "code",
   "execution_count": 0,
   "metadata": {
    "colab": {},
    "colab_type": "code",
    "collapsed": true,
    "id": "HmqX7ywgqCA2"
   },
   "outputs": [],
   "source": [
    "model = sklearn.neighbors.KNeighborsClassifier(n_neighbors=1)"
   ]
  },
  {
   "cell_type": "code",
   "execution_count": 0,
   "metadata": {
    "colab": {},
    "colab_type": "code",
    "collapsed": true,
    "id": "N0x7vfiaqCA5"
   },
   "outputs": [],
   "source": [
    "model.fit(X=df[['x1', 'x2']], y=df['y'])"
   ]
  },
  {
   "cell_type": "markdown",
   "metadata": {
    "colab_type": "text",
    "id": "RQVf1N_TqCA-"
   },
   "source": [
    "### Exercise 3"
   ]
  },
  {
   "cell_type": "markdown",
   "metadata": {
    "colab_type": "text",
    "id": "uyTSf5bZqCA_"
   },
   "source": [
    "#### Question 1"
   ]
  },
  {
   "cell_type": "markdown",
   "metadata": {
    "colab_type": "text",
    "id": "NLGe1yLvqCBB"
   },
   "source": [
    "Use the `model.predict()` function to guess the class of the following points:\n",
    "\n",
    "$$x_{p1} = \\pmatrix{-2 \\\\ 2}, x_{p2} = \\pmatrix{2 \\\\ 6}, x_{p3} = \\pmatrix{6 \\\\ 0}$$"
   ]
  },
  {
   "cell_type": "code",
   "execution_count": 0,
   "metadata": {
    "colab": {},
    "colab_type": "code",
    "collapsed": true,
    "id": "OkhSrm7qqCBC"
   },
   "outputs": [],
   "source": []
  },
  {
   "cell_type": "markdown",
   "metadata": {
    "colab_type": "text",
    "id": "wOBESEeLqCBI"
   },
   "source": [
    "#### Question 2"
   ]
  },
  {
   "cell_type": "markdown",
   "metadata": {
    "colab_type": "text",
    "id": "Sjlvj_RHqCBJ"
   },
   "source": [
    "Is the training step (`model.fit()` function) longer to execute than the prediction step (`model.predict()` function) ? Why ?"
   ]
  },
  {
   "cell_type": "markdown",
   "metadata": {
    "colab_type": "text",
    "id": "1BLfksmgqCBL"
   },
   "source": [
    "..."
   ]
  },
  {
   "cell_type": "markdown",
   "metadata": {
    "colab_type": "text",
    "id": "OtluzT-jqCBM"
   },
   "source": [
    "#### Question 3"
   ]
  },
  {
   "cell_type": "markdown",
   "metadata": {
    "colab_type": "text",
    "id": "idU95GGbqCBN"
   },
   "source": [
    "The next cell shows the decision boundary of the model. Explain what is a decision boundary in classification."
   ]
  },
  {
   "cell_type": "markdown",
   "metadata": {
    "colab_type": "text",
    "id": "yNUxwruQqCBX"
   },
   "source": [
    "..."
   ]
  },
  {
   "cell_type": "code",
   "execution_count": 0,
   "metadata": {
    "colab": {},
    "colab_type": "code",
    "collapsed": true,
    "id": "IUWHwfNwqCBZ"
   },
   "outputs": [],
   "source": [
    "plot_2d_classification_samples(df, model=model)"
   ]
  },
  {
   "cell_type": "markdown",
   "metadata": {
    "colab_type": "text",
    "id": "msyhdCYCqCBe"
   },
   "source": [
    "#### Question 4"
   ]
  },
  {
   "cell_type": "markdown",
   "metadata": {
    "colab_type": "text",
    "id": "ZC8NFcdAqCBf"
   },
   "source": [
    "The next cell generates the *Voronoï diagram* of the dataset.\n",
    "What does this figure illustrates about the Nearest Neighbor method?\n",
    "\n",
    "The Voronoï diagram makes a partition of the feature space $\\mathcal{X}$.\n",
    "Each partition is a *cell*. What do cells represent?"
   ]
  },
  {
   "cell_type": "markdown",
   "metadata": {
    "colab_type": "text",
    "id": "YBMnSVk7qCBg"
   },
   "source": [
    "..."
   ]
  },
  {
   "cell_type": "code",
   "execution_count": 0,
   "metadata": {
    "colab": {},
    "colab_type": "code",
    "collapsed": true,
    "id": "OSyRy3BAqCBt"
   },
   "outputs": [],
   "source": [
    "plot_2d_classification_samples(df, model=model, voronoi=True);"
   ]
  },
  {
   "cell_type": "markdown",
   "metadata": {
    "colab_type": "text",
    "id": "JZcAP_QhqCBx"
   },
   "source": [
    "### Regression"
   ]
  },
  {
   "cell_type": "markdown",
   "metadata": {
    "colab_type": "text",
    "id": "LuuUHIz_qCBy"
   },
   "source": [
    "After the \"toy\" classification problem, let's work on a toy **regression problem**.\n",
    "\n",
    "The next cell generates a dataset (where 'x' is the feature and 'y' the label to predict)."
   ]
  },
  {
   "cell_type": "code",
   "execution_count": 0,
   "metadata": {
    "colab": {},
    "colab_type": "code",
    "collapsed": true,
    "id": "kSBMmLPkqCBy"
   },
   "outputs": [],
   "source": [
    "N_SAMPLES = 40\n",
    "x = np.random.uniform(low=-10., high=10., size=N_SAMPLES)\n",
    "y = 2. * x + 3. + np.random.normal(scale=3., size=x.shape)\n",
    "\n",
    "df = pd.DataFrame(np.array([x, y]).T, columns=['x', 'y'])\n",
    "#df.plot(x='x', y='y', style='o-')\n",
    "df.plot.scatter(x='x', y='y');"
   ]
  },
  {
   "cell_type": "markdown",
   "metadata": {
    "colab_type": "text",
    "id": "7bwLMtBuqCB2"
   },
   "source": [
    "Once the dataset is ready, let's make the regressor and train it with the following code:"
   ]
  },
  {
   "cell_type": "code",
   "execution_count": 0,
   "metadata": {
    "colab": {},
    "colab_type": "code",
    "collapsed": true,
    "id": "0ZG1Zs8tqCB3"
   },
   "outputs": [],
   "source": [
    "model = sklearn.neighbors.KNeighborsRegressor(n_neighbors=1)"
   ]
  },
  {
   "cell_type": "code",
   "execution_count": 0,
   "metadata": {
    "colab": {},
    "colab_type": "code",
    "collapsed": true,
    "id": "qbcjI9zAqCB6"
   },
   "outputs": [],
   "source": [
    "model.fit(df[['x']], df['y'])"
   ]
  },
  {
   "cell_type": "markdown",
   "metadata": {
    "colab_type": "text",
    "id": "hf0bFQpAqCB9"
   },
   "source": [
    "### Exercise 4"
   ]
  },
  {
   "cell_type": "markdown",
   "metadata": {
    "colab_type": "text",
    "id": "3_tPo3zvqCB-"
   },
   "source": [
    "Use the `model.predict()` function to guess the class of the following points:\n",
    "\n",
    "$$x_{p1} = \\pmatrix{-2}, x_{p2} = \\pmatrix{2}, x_{p3} = \\pmatrix{6}$$"
   ]
  },
  {
   "cell_type": "code",
   "execution_count": 0,
   "metadata": {
    "colab": {},
    "colab_type": "code",
    "collapsed": true,
    "id": "Qv-4ndbwqCB_"
   },
   "outputs": [],
   "source": []
  },
  {
   "cell_type": "markdown",
   "metadata": {
    "colab_type": "text",
    "id": "yDT4QVJQqCCC"
   },
   "source": [
    "### Plot the model's decision function"
   ]
  },
  {
   "cell_type": "code",
   "execution_count": 0,
   "metadata": {
    "colab": {},
    "colab_type": "code",
    "collapsed": true,
    "id": "x5xGaNrXqCCD"
   },
   "outputs": [],
   "source": [
    "x_pred = np.arange(-10, 10, 0.1).reshape(-1, 1)\n",
    "y_pred = model.predict(x_pred)\n",
    "\n",
    "df_pred = pd.DataFrame(np.array([x_pred.flatten(), y_pred.flatten()]).T, columns=['x', 'y'])\n",
    "\n",
    "ax = df.plot.scatter(x='x', y='y')\n",
    "df_pred.plot(x='x', y='y', style='r--', ax=ax);"
   ]
  },
  {
   "cell_type": "markdown",
   "metadata": {
    "colab_type": "text",
    "id": "6I-iFUFEqCC7"
   },
   "source": [
    "### Exercise 5\n",
    "\n",
    "Do you think this model has good performances in *generalization* ? Why ?"
   ]
  },
  {
   "cell_type": "markdown",
   "metadata": {
    "colab_type": "text",
    "id": "8pk04WLQqCC9"
   },
   "source": [
    "..."
   ]
  },
  {
   "cell_type": "markdown",
   "metadata": {
    "colab_type": "text",
    "id": "-YmWKcxZqCC9"
   },
   "source": [
    "## k-Nearest Neighbors algorithm"
   ]
  },
  {
   "cell_type": "markdown",
   "metadata": {
    "colab_type": "text",
    "id": "rmT7lPzPqCC-"
   },
   "source": [
    "The *Nearest Neighbor* method is very sensitive to noise: if an example in $\\mathcal{D}$ is wrongly labeled or positioned, all points in its Voronoï cell will be wrong too. The *k Neareast Neighbor* fix this weakness by considering for each prediction the label of several neighbors instead of just one.\n",
    "\n",
    "Considering a dataset $\\mathcal{D}=\\{(\\mathcal{x}_i, y_i)_{i=1,\\dots,n}\\}$ of $n$ labeled examples and a meta parameter $k \\in \\mathbb{N}*$, the *$k$ Nearest Neighbors* model assigns an input vector $\\boldsymbol{x}$ to the label $y_{\\arg\\min_{i=1,\\dots, n}d(x, x_i)}$ of its $k$ closest neighbor in $\\mathcal{D}$.\n",
    "Let's write $\\mathcal{N}_k(\\boldsymbol{x})$ the set of the $k$ nearest neighbors of $\\boldsymbol{x}$ in $\\mathcal{D}$.\n",
    "\n",
    "- For classification problems, the label assigned to $\\boldsymbol{x}$ is the **most represented label** among the nearest neighbors (vote)\n",
    "$$f(\\boldsymbol{x}) = \\arg\\max_c \\sum_{i: x_i \\in \\mathcal{N}_k(\\boldsymbol{x})} \\delta(y_i, c)$$\n",
    "\n",
    "- For regression problems, the label assigned to $\\boldsymbol{x}$ is computed based on the **mean** of the labels of its nearest neighbors $\\mathcal{N}_k(\\boldsymbol{x})$\n",
    "$$f(\\boldsymbol{x}) = \\frac{1}{k} \\sum_{i: x_i \\in \\mathcal{N}_k(\\boldsymbol{x})} y_i$$"
   ]
  },
  {
   "cell_type": "markdown",
   "metadata": {
    "colab_type": "text",
    "id": "uf42K1cXqCC_"
   },
   "source": [
    "### Exercise 6"
   ]
  },
  {
   "cell_type": "markdown",
   "metadata": {
    "colab_type": "text",
    "id": "pG_JUrF2qCDA"
   },
   "source": [
    "We consider the following dataset (where `x1` and `x2` are the example features and where `y` is the example label):"
   ]
  },
  {
   "cell_type": "code",
   "execution_count": 0,
   "metadata": {
    "colab": {},
    "colab_type": "code",
    "collapsed": true,
    "id": "9U1N_8aeqCDB"
   },
   "outputs": [],
   "source": [
    "data = [[1, 2, '+'],\n",
    "        [2, 1, '+'],\n",
    "        [2, 2, '-'],\n",
    "        [2, 3, '+'],\n",
    "        [3, 1, '-'],\n",
    "        [3, 2, '+']]\n",
    "\n",
    "df = pd.DataFrame(data, columns=['x1', 'x2', 'y'])\n",
    "df"
   ]
  },
  {
   "cell_type": "markdown",
   "metadata": {
    "colab_type": "text",
    "id": "RXC6RtESqCD9"
   },
   "source": [
    "#### Question 1"
   ]
  },
  {
   "cell_type": "markdown",
   "metadata": {
    "colab_type": "text",
    "id": "BtFvHQaZqCD-"
   },
   "source": [
    "Draw this dataset on a sheet of paper."
   ]
  },
  {
   "cell_type": "markdown",
   "metadata": {
    "colab_type": "text",
    "id": "uBXBDx2gqCD_"
   },
   "source": [
    "#### Question 2"
   ]
  },
  {
   "cell_type": "markdown",
   "metadata": {
    "colab_type": "text",
    "id": "R5jh6MBWqCD_"
   },
   "source": [
    "Draw the decision boundary of a Nearest Neighbor model (i.e. 1NN)."
   ]
  },
  {
   "cell_type": "markdown",
   "metadata": {
    "colab_type": "text",
    "id": "QmR0JxpoqCEA"
   },
   "source": [
    "#### Question 3"
   ]
  },
  {
   "cell_type": "markdown",
   "metadata": {
    "colab_type": "text",
    "id": "E-H1mElpqCEB"
   },
   "source": [
    "Draw the decision boundary of a 3 Nearest Neighbor model (i.e. 3NN)"
   ]
  },
  {
   "cell_type": "markdown",
   "metadata": {
    "colab_type": "text",
    "id": "kP22qwqIqCEC"
   },
   "source": [
    "#### Question 4"
   ]
  },
  {
   "cell_type": "markdown",
   "metadata": {
    "colab_type": "text",
    "id": "e8eZkqL7qCEC"
   },
   "source": [
    "How many errors these two classifiers make on the training dataset ?"
   ]
  },
  {
   "cell_type": "markdown",
   "metadata": {
    "colab_type": "text",
    "id": "Z8oe3psDqCED"
   },
   "source": [
    "#### Question 5"
   ]
  },
  {
   "cell_type": "markdown",
   "metadata": {
    "colab_type": "text",
    "id": "CmwPQO5iqCEE"
   },
   "source": [
    "What label these two classifiers predict for the point $x = \\pmatrix{4 \\\\ 0.5}$ ?"
   ]
  },
  {
   "cell_type": "markdown",
   "metadata": {
    "colab_type": "text",
    "id": "gNHoGap3qCEF"
   },
   "source": [
    "## k-Nearest Neighbor (kNN) with Scikit Learn"
   ]
  },
  {
   "cell_type": "markdown",
   "metadata": {
    "colab_type": "text",
    "id": "KcV-r46ZqCEF"
   },
   "source": [
    "### Classification"
   ]
  },
  {
   "cell_type": "markdown",
   "metadata": {
    "colab_type": "text",
    "id": "TZt7cgKeqCEG"
   },
   "source": [
    "First we make the dataset."
   ]
  },
  {
   "cell_type": "code",
   "execution_count": 0,
   "metadata": {
    "colab": {},
    "colab_type": "code",
    "collapsed": true,
    "id": "eR4W1TqkqCEH"
   },
   "outputs": [],
   "source": [
    "df = gen_2d_classification_samples()"
   ]
  },
  {
   "cell_type": "code",
   "execution_count": 0,
   "metadata": {
    "colab": {},
    "colab_type": "code",
    "collapsed": true,
    "id": "hajYcM6uqCEI"
   },
   "outputs": [],
   "source": [
    "plot_2d_classification_samples(df)"
   ]
  },
  {
   "cell_type": "markdown",
   "metadata": {
    "colab_type": "text",
    "id": "qI-cY3CdqCEK"
   },
   "source": [
    "Then we make the classifier, train it and plot the decision boundaries:"
   ]
  },
  {
   "cell_type": "code",
   "execution_count": 0,
   "metadata": {
    "colab": {},
    "colab_type": "code",
    "collapsed": true,
    "id": "POM99xhTqCEL"
   },
   "outputs": [],
   "source": [
    "model = sklearn.neighbors.KNeighborsClassifier(n_neighbors=5)\n",
    "\n",
    "model.fit(df[['x1', 'x2']], df['y'])\n",
    "\n",
    "plot_2d_classification_samples(df, model=model)"
   ]
  },
  {
   "cell_type": "markdown",
   "metadata": {
    "colab_type": "text",
    "id": "0tTKMbRBqCEN"
   },
   "source": [
    "### Exercise 7"
   ]
  },
  {
   "cell_type": "markdown",
   "metadata": {
    "colab_type": "text",
    "id": "hYIGdv5DqCEO"
   },
   "source": [
    "The `n_neighbors` parameter provided to the model's constructor `KNeighborsClassifier` sets the number of neighbors to consider for each prediction (i.e. `n_neighbors` this is the '$k$' of kNN)."
   ]
  },
  {
   "cell_type": "markdown",
   "metadata": {
    "colab_type": "text",
    "id": "pXsmOkIcqCEO"
   },
   "source": [
    "#### Question 1"
   ]
  },
  {
   "cell_type": "markdown",
   "metadata": {
    "colab_type": "text",
    "id": "uQ7U0-7uqCEP"
   },
   "source": [
    "Change the value of this parameter and observe what happen.\n",
    "What is the influence of the number of neighbors on the boundaries ?"
   ]
  },
  {
   "cell_type": "markdown",
   "metadata": {
    "colab_type": "text",
    "id": "G1il_1kuqCEQ"
   },
   "source": [
    "..."
   ]
  },
  {
   "cell_type": "markdown",
   "metadata": {
    "colab_type": "text",
    "id": "c6xc90ulqCER"
   },
   "source": [
    "#### Question 2"
   ]
  },
  {
   "cell_type": "markdown",
   "metadata": {
    "colab_type": "text",
    "id": "XqB30fQ8qCES"
   },
   "source": [
    "When you face a very noised dataset (wrong labels, misplaced points, ...), should you increase or decrease $k$ ?"
   ]
  },
  {
   "cell_type": "markdown",
   "metadata": {
    "colab_type": "text",
    "id": "D_Y_ZNanqCES"
   },
   "source": [
    "..."
   ]
  },
  {
   "cell_type": "markdown",
   "metadata": {
    "colab_type": "text",
    "id": "devPNWwoqCET"
   },
   "source": [
    "#### Question 3"
   ]
  },
  {
   "cell_type": "markdown",
   "metadata": {
    "colab_type": "text",
    "id": "lPTLey3AqCEU"
   },
   "source": [
    "Is the Voronoi diagram useful for the kNN case (i.e. when $k>1$) ?"
   ]
  },
  {
   "cell_type": "markdown",
   "metadata": {
    "colab_type": "text",
    "id": "f-Cf9Mx0qCEU"
   },
   "source": [
    "..."
   ]
  },
  {
   "cell_type": "markdown",
   "metadata": {
    "colab_type": "text",
    "id": "eBrnYgkUqCEV"
   },
   "source": [
    "#### Question 4"
   ]
  },
  {
   "cell_type": "markdown",
   "metadata": {
    "colab_type": "text",
    "id": "mDsXjSYKqCEW"
   },
   "source": [
    "Plot the decision boundary with $k=2$ and describe what append in case of equal vote?"
   ]
  },
  {
   "cell_type": "markdown",
   "metadata": {
    "colab_type": "text",
    "id": "CTe6VcZmqCEX"
   },
   "source": [
    "..."
   ]
  },
  {
   "cell_type": "markdown",
   "metadata": {
    "colab_type": "text",
    "id": "3nbIJKdGqCEX"
   },
   "source": [
    "#### Question 5"
   ]
  },
  {
   "cell_type": "markdown",
   "metadata": {
    "colab_type": "text",
    "id": "dpwkwAiFqCEY"
   },
   "source": [
    "Add the `weights = \"distance\"` parameter in `KNeighborsClassifier`'s constructor. What changes can you observe on the decision boundary? Explain how labels are computed with this new parameter."
   ]
  },
  {
   "cell_type": "markdown",
   "metadata": {
    "colab_type": "text",
    "id": "gmLWxb76qCEZ"
   },
   "source": [
    "..."
   ]
  },
  {
   "cell_type": "markdown",
   "metadata": {
    "colab_type": "text",
    "id": "2LzX3Mg4qCEZ"
   },
   "source": [
    "### Regression"
   ]
  },
  {
   "cell_type": "markdown",
   "metadata": {
    "colab_type": "text",
    "id": "_vtYpTsjqCEa"
   },
   "source": [
    "First we make the dataset."
   ]
  },
  {
   "cell_type": "code",
   "execution_count": 0,
   "metadata": {
    "colab": {},
    "colab_type": "code",
    "collapsed": true,
    "id": "JjReJHPTqCEb"
   },
   "outputs": [],
   "source": [
    "N_SAMPLES = 40\n",
    "x = np.random.uniform(low=-10., high=10., size=N_SAMPLES)\n",
    "y = 2. * x + 3. + np.random.normal(scale=3., size=x.shape)\n",
    "\n",
    "df = pd.DataFrame(np.array([x, y]).T, columns=['x', 'y'])\n",
    "#df.plot(x='x', y='y', style='o-')\n",
    "df.plot.scatter(x='x', y='y');"
   ]
  },
  {
   "cell_type": "markdown",
   "metadata": {
    "colab_type": "text",
    "id": "HTRNi3iHqCEd"
   },
   "source": [
    "Then we make the classifier, train it and plot the decision boundaries:"
   ]
  },
  {
   "cell_type": "code",
   "execution_count": 0,
   "metadata": {
    "colab": {},
    "colab_type": "code",
    "collapsed": true,
    "id": "gHiseDiXqCEd"
   },
   "outputs": [],
   "source": [
    "n_neighbors = 10\n",
    "\n",
    "model = sklearn.neighbors.KNeighborsRegressor(n_neighbors)\n",
    "\n",
    "model.fit(df[['x']], df['y'])\n",
    "\n",
    "x_pred = np.arange(-10, 10, 1).reshape(-1, 1)\n",
    "y_pred = model.predict(x_pred)\n",
    "\n",
    "df_pred = pd.DataFrame(np.array([x_pred.flatten(), y_pred.flatten()]).T, columns=['x', 'y'])\n",
    "\n",
    "ax = df.plot.scatter(x='x', y='y')\n",
    "df_pred.plot(x='x', y='y', style='r--', ax=ax);"
   ]
  },
  {
   "cell_type": "markdown",
   "metadata": {
    "colab_type": "text",
    "id": "Y6JWkhNRqCEo"
   },
   "source": [
    "### Exercise 8"
   ]
  },
  {
   "cell_type": "markdown",
   "metadata": {
    "colab_type": "text",
    "id": "nP0g9hHDqCEp"
   },
   "source": [
    "The `n_neighbors` parameter provided to the model's constructor `KNeighborsClassifier` sets the number of neighbors to consider for each prediction (i.e. `n_neighbors` this is the '$k$' of kNN)."
   ]
  },
  {
   "cell_type": "markdown",
   "metadata": {
    "colab_type": "text",
    "id": "woMMXv7XqCEp"
   },
   "source": [
    "#### Question 1"
   ]
  },
  {
   "cell_type": "markdown",
   "metadata": {
    "colab_type": "text",
    "id": "p7v2ND14qCEq"
   },
   "source": [
    "Change the value of this parameter and observe what happen.\n",
    "What is the influence of the number of neighbors on the decision function ?"
   ]
  },
  {
   "cell_type": "markdown",
   "metadata": {
    "colab_type": "text",
    "id": "ePFiuMPgqCEq"
   },
   "source": [
    "..."
   ]
  },
  {
   "cell_type": "markdown",
   "metadata": {
    "colab_type": "text",
    "id": "4myLbKMfqCEr"
   },
   "source": [
    "#### Question 2"
   ]
  },
  {
   "cell_type": "markdown",
   "metadata": {
    "colab_type": "text",
    "id": "D7GVczJ9qCEr"
   },
   "source": [
    "When you face a very noised dataset (wrong labels, misplaced points, ...), should you increase or decrease $k$ ?"
   ]
  },
  {
   "cell_type": "markdown",
   "metadata": {
    "colab_type": "text",
    "id": "EFTu_mdRqCEs"
   },
   "source": [
    "..."
   ]
  },
  {
   "cell_type": "markdown",
   "metadata": {
    "colab_type": "text",
    "id": "5eFgIjbVqCEs"
   },
   "source": [
    "## Bonus"
   ]
  },
  {
   "cell_type": "markdown",
   "metadata": {
    "colab_type": "text",
    "id": "F0GR9X9CqCEt"
   },
   "source": [
    "### Exercise 9\n",
    "\n",
    "Solve the Titanic problem with the k Nearest Neighbors method. Reuse the code of the first lab session."
   ]
  },
  {
   "cell_type": "code",
   "execution_count": 0,
   "metadata": {
    "colab": {},
    "colab_type": "code",
    "collapsed": true,
    "id": "kB6oN_3eqCEt"
   },
   "outputs": [],
   "source": []
  },
  {
   "cell_type": "markdown",
   "metadata": {
    "colab_type": "text",
    "id": "gtG3JVpcqCEv"
   },
   "source": [
    "### Exercise 10\n",
    "\n",
    "Write your own implementation for the k Nearest Neighbor algorithm.\n",
    "Write a `knn()` function that takes two arguments:\n",
    "- *data*: the observed dataset (examples with their labels)\n",
    "- *xpred*: a list of examples to predict\n",
    "\n",
    "This function should return the sequence of predicted labels."
   ]
  },
  {
   "cell_type": "code",
   "execution_count": 0,
   "metadata": {
    "colab": {},
    "colab_type": "code",
    "collapsed": true,
    "id": "kYl-kutXqCEw"
   },
   "outputs": [],
   "source": []
  }
 ],
 "metadata": {
  "colab": {
   "name": "lab_session_02.ipynb",
   "provenance": [],
   "version": "0.3.2"
  },
  "kernelspec": {
   "display_name": "Python 3",
   "language": "python",
   "name": "python3"
  },
  "language_info": {
   "codemirror_mode": {
    "name": "ipython",
    "version": 3
   },
   "file_extension": ".py",
   "mimetype": "text/x-python",
   "name": "python",
   "nbconvert_exporter": "python",
   "pygments_lexer": "ipython3",
   "version": "3.6.2"
  }
 },
 "nbformat": 4,
 "nbformat_minor": 1
}
